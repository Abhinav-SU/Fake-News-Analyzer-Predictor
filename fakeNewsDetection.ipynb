    "data_fake=pd.read_csv('datasets/FakeNewsData.csv')\n",
    "data_true=pd.read_csv('datasets/TrueNewsData.csv')"
